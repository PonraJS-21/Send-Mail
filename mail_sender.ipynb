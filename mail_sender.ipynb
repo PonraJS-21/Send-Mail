{
 "cells": [
  {
   "cell_type": "markdown",
   "metadata": {},
   "source": [
    "### Sending mail using Python\n",
    "<b>Note</b> Use the below link and enable the <b>Allow less secure apps option ON <br></b>\n",
    "https://myaccount.google.com/lesssecureapps\n",
    "\n",
    "Tutorial - https://realpython.com/python-send-email/"
   ]
  },
  {
   "cell_type": "code",
   "execution_count": null,
   "metadata": {},
   "outputs": [],
   "source": [
    "import smtplib, email, ssl\n",
    "from email import encoders\n",
    "from email.message import EmailMessage\n",
    "from email.mime.text import MIMEText\n",
    "from email.mime.multipart import MIMEMultipart\n",
    "from email.mime.base import MIMEBase"
   ]
  },
  {
   "cell_type": "code",
   "execution_count": null,
   "metadata": {},
   "outputs": [],
   "source": [
    "SMTPserver = \"smtp.gmail.com\"\n",
    "sender = \"\"\n",
    "destination = \"\"\n",
    "\n",
    "USERNAME = \"\"\n",
    "PASSWORD = \"\""
   ]
  },
  {
   "cell_type": "markdown",
   "metadata": {},
   "source": [
    "### Send mail with HTML content"
   ]
  },
  {
   "cell_type": "code",
   "execution_count": null,
   "metadata": {},
   "outputs": [],
   "source": [
    "def send_mail():\n",
    "    try:\n",
    "        message = MIMEMultipart(\"alternative\")\n",
    "        message[\"Subject\"] = \"multipart test\"\n",
    "        message[\"From\"] = sender\n",
    "        message[\"To\"] = destination\n",
    "\n",
    "        # Create the plain-text and HTML version of your message\n",
    "        text = \"\"\"\\\n",
    "        Hi,\n",
    "        How are you?\n",
    "        Real Python has many great tutorials:\n",
    "        www.realpython.com\"\"\"\n",
    "        html = \"\"\"\\\n",
    "        <html>\n",
    "          <body>\n",
    "            <p>Hi,<br>\n",
    "               How are you?<br>\n",
    "               <a href=\"http://www.realpython.com\">Real Python</a> \n",
    "               has many great tutorials.\n",
    "            </p>\n",
    "          </body>\n",
    "        </html>\n",
    "        \"\"\"\n",
    "\n",
    "        # Turn these into plain/html MIMEText objects\n",
    "        part1 = MIMEText(text, \"plain\")\n",
    "        part2 = MIMEText(html, \"html\")\n",
    "\n",
    "        # Add HTML/plain-text parts to MIMEMultipart message\n",
    "        # The email client will try to render the last part first\n",
    "        message.attach(part1)\n",
    "        message.attach(part2)\n",
    "\n",
    "        # Create secure connection with server and send email\n",
    "        context = ssl.create_default_context()\n",
    "        with smtplib.SMTP_SSL(SMTPserver, 465, context=context) as server:\n",
    "            server.login(USERNAME, PASSWORD)\n",
    "            server.sendmail(\n",
    "                sender, destination, message.as_string()\n",
    "            )\n",
    "            server.quit()\n",
    "        print('Success!')\n",
    "    except:\n",
    "        print('An error Occured')"
   ]
  },
  {
   "cell_type": "code",
   "execution_count": null,
   "metadata": {},
   "outputs": [],
   "source": [
    "send_mail()"
   ]
  },
  {
   "cell_type": "markdown",
   "metadata": {},
   "source": [
    "### Send mail with attachment"
   ]
  },
  {
   "cell_type": "code",
   "execution_count": null,
   "metadata": {},
   "outputs": [],
   "source": [
    "def send_mail_att():\n",
    "    try:\n",
    "        subject = \"An email with attachment from Python\"\n",
    "        body = \"This is an email with attachment sent from Python\"\n",
    "\n",
    "        # Create a multipart message and set headers\n",
    "        message = MIMEMultipart()\n",
    "        message[\"From\"] = sender\n",
    "        message[\"To\"] = destination\n",
    "        message[\"Subject\"] = subject\n",
    "        # message[\"Bcc\"] = receiver_email  # Recommended for mass emails\n",
    "\n",
    "        # Add body to email\n",
    "        message.attach(MIMEText(body, \"plain\"))\n",
    "\n",
    "        filename = \"test_attachment.png\"  # In same directory as script\n",
    "\n",
    "        # Open PDF file in binary mode\n",
    "        with open(filename, \"rb\") as attachment:\n",
    "            # Add file as application/octet-stream\n",
    "            # Email client can usually download this automatically as attachment\n",
    "            part = MIMEBase(\"application\", \"octet-stream\")\n",
    "            part.set_payload(attachment.read())\n",
    "\n",
    "        # Encode file in ASCII characters to send by email    \n",
    "        encoders.encode_base64(part)\n",
    "\n",
    "        # Add header as key/value pair to attachment part\n",
    "        part.add_header(\n",
    "            \"Content-Disposition\",\n",
    "            f\"attachment; filename= {filename}\",\n",
    "        )\n",
    "\n",
    "        # Add attachment to message and convert message to string\n",
    "        message.attach(part)\n",
    "        text = message.as_string()\n",
    "\n",
    "        # Log in to server using secure context and send email\n",
    "        context = ssl.create_default_context()\n",
    "        with smtplib.SMTP_SSL(SMTPserver, 465, context=context) as server:\n",
    "            server.login(USERNAME, PASSWORD)\n",
    "            server.sendmail(sender, destination, text)\n",
    "            server.quit()\n",
    "        print('Success!')\n",
    "    except:\n",
    "        print('An error Occured!')"
   ]
  },
  {
   "cell_type": "code",
   "execution_count": null,
   "metadata": {},
   "outputs": [],
   "source": [
    "send_mail_att()"
   ]
  },
  {
   "cell_type": "code",
   "execution_count": null,
   "metadata": {},
   "outputs": [],
   "source": []
  }
 ],
 "metadata": {
  "kernelspec": {
   "display_name": "Python 3",
   "language": "python",
   "name": "python3"
  },
  "language_info": {
   "codemirror_mode": {
    "name": "ipython",
    "version": 3
   },
   "file_extension": ".py",
   "mimetype": "text/x-python",
   "name": "python",
   "nbconvert_exporter": "python",
   "pygments_lexer": "ipython3",
   "version": "3.7.4"
  }
 },
 "nbformat": 4,
 "nbformat_minor": 2
}
